{
  "nbformat": 4,
  "nbformat_minor": 0,
  "metadata": {
    "colab": {
      "provenance": [],
      "authorship_tag": "ABX9TyMtxtJwwJT36mTtxRiPKqOx",
      "include_colab_link": true
    },
    "kernelspec": {
      "name": "python3",
      "display_name": "Python 3"
    },
    "language_info": {
      "name": "python"
    }
  },
  "cells": [
    {
      "cell_type": "markdown",
      "metadata": {
        "id": "view-in-github",
        "colab_type": "text"
      },
      "source": [
        "<a href=\"https://colab.research.google.com/github/hamzzihyun/coachingstudy-9_AI_basic/blob/main/Week2_mission_jihyun.ipynb\" target=\"_parent\"><img src=\"https://colab.research.google.com/assets/colab-badge.svg\" alt=\"Open In Colab\"/></a>"
      ]
    },
    {
      "cell_type": "code",
      "execution_count": 10,
      "metadata": {
        "colab": {
          "base_uri": "https://localhost:8080/"
        },
        "id": "7-IPnKM4T4nY",
        "outputId": "1a68b3dc-f823-4e7a-9d75-0c22872cd973"
      },
      "outputs": [
        {
          "output_type": "stream",
          "name": "stdout",
          "text": [
            "62.5\n"
          ]
        }
      ],
      "source": [
        "# Q1\n",
        "# test score, mid : 50, final : 75\n",
        "\n",
        "class Score():\n",
        "    # TODO\n",
        "    def __init__(self, mid, final): # 초기생성자\n",
        "      # (1) __변수명 : 생성자의 인스턴스를 private로 선언\n",
        "      self.__mid = mid  # pirvate 선언\n",
        "      self.__final = final\n",
        "\n",
        "    @property  # private된 변수 반환\n",
        "    def mid(self):  # (2) 데코레이터를 이용해 데이터 저장\n",
        "      return self.__mid\n",
        "\n",
        "    @property\n",
        "    def final(self):\n",
        "      return self.__final\n",
        "\n",
        "if __name__ == \"__main__\":\n",
        "  # 출력함수\n",
        "  score = Score (50, 75)  # Score 클래스에 속하는 인스턴스로 score 객체 생성\n",
        "  print((score.mid + score.final) / 2)"
      ]
    },
    {
      "cell_type": "code",
      "source": [
        "# 02\n",
        "\n",
        "class Car():\n",
        "\n",
        "    def __init__(self, fuel, wheels) :\n",
        "        self.fuel = fuel\n",
        "        self.wheels = wheels\n",
        "\n",
        "class Bike(Car): # Car 클래스 상속\n",
        "    def __init__(self, fuel, wheels, size): # size인자 추가\n",
        "        super().__init__(fuel, wheels) # 부모객체인 Car 클래스 속성을 상속\n",
        "        self.size = size # 자식클래스 Bike에서 추가된 속성\n",
        "\n",
        "bike = Bike('gas', 2, 'small')\n",
        "\n",
        "print(bike.fuel, bike.wheels, bike.size)"
      ],
      "metadata": {
        "colab": {
          "base_uri": "https://localhost:8080/"
        },
        "id": "qOwkG11AcE2q",
        "outputId": "908ba25c-acd1-4068-9bb7-bb5cbfc18348"
      },
      "execution_count": 9,
      "outputs": [
        {
          "output_type": "stream",
          "name": "stdout",
          "text": [
            "gas 2 small\n"
          ]
        }
      ]
    },
    {
      "cell_type": "markdown",
      "source": [
        "### 📑 **Upload file for question 3,4,5**"
      ],
      "metadata": {
        "id": "-lKuVx-xfSWN"
      }
    },
    {
      "cell_type": "code",
      "source": [
        "from google.colab import files\n",
        "uploaded = files.upload()"
      ],
      "metadata": {
        "colab": {
          "base_uri": "https://localhost:8080/",
          "height": 76
        },
        "id": "bUoX4_lSePab",
        "outputId": "5b43a43b-8455-4693-8aea-6bf1a9f858ff"
      },
      "execution_count": 28,
      "outputs": [
        {
          "output_type": "display_data",
          "data": {
            "text/plain": [
              "<IPython.core.display.HTML object>"
            ],
            "text/html": [
              "\n",
              "     <input type=\"file\" id=\"files-914a847b-97ce-41f0-9659-7c90b73f4be1\" name=\"files[]\" multiple disabled\n",
              "        style=\"border:none\" />\n",
              "     <output id=\"result-914a847b-97ce-41f0-9659-7c90b73f4be1\">\n",
              "      Upload widget is only available when the cell has been executed in the\n",
              "      current browser session. Please rerun this cell to enable.\n",
              "      </output>\n",
              "      <script>// Copyright 2017 Google LLC\n",
              "//\n",
              "// Licensed under the Apache License, Version 2.0 (the \"License\");\n",
              "// you may not use this file except in compliance with the License.\n",
              "// You may obtain a copy of the License at\n",
              "//\n",
              "//      http://www.apache.org/licenses/LICENSE-2.0\n",
              "//\n",
              "// Unless required by applicable law or agreed to in writing, software\n",
              "// distributed under the License is distributed on an \"AS IS\" BASIS,\n",
              "// WITHOUT WARRANTIES OR CONDITIONS OF ANY KIND, either express or implied.\n",
              "// See the License for the specific language governing permissions and\n",
              "// limitations under the License.\n",
              "\n",
              "/**\n",
              " * @fileoverview Helpers for google.colab Python module.\n",
              " */\n",
              "(function(scope) {\n",
              "function span(text, styleAttributes = {}) {\n",
              "  const element = document.createElement('span');\n",
              "  element.textContent = text;\n",
              "  for (const key of Object.keys(styleAttributes)) {\n",
              "    element.style[key] = styleAttributes[key];\n",
              "  }\n",
              "  return element;\n",
              "}\n",
              "\n",
              "// Max number of bytes which will be uploaded at a time.\n",
              "const MAX_PAYLOAD_SIZE = 100 * 1024;\n",
              "\n",
              "function _uploadFiles(inputId, outputId) {\n",
              "  const steps = uploadFilesStep(inputId, outputId);\n",
              "  const outputElement = document.getElementById(outputId);\n",
              "  // Cache steps on the outputElement to make it available for the next call\n",
              "  // to uploadFilesContinue from Python.\n",
              "  outputElement.steps = steps;\n",
              "\n",
              "  return _uploadFilesContinue(outputId);\n",
              "}\n",
              "\n",
              "// This is roughly an async generator (not supported in the browser yet),\n",
              "// where there are multiple asynchronous steps and the Python side is going\n",
              "// to poll for completion of each step.\n",
              "// This uses a Promise to block the python side on completion of each step,\n",
              "// then passes the result of the previous step as the input to the next step.\n",
              "function _uploadFilesContinue(outputId) {\n",
              "  const outputElement = document.getElementById(outputId);\n",
              "  const steps = outputElement.steps;\n",
              "\n",
              "  const next = steps.next(outputElement.lastPromiseValue);\n",
              "  return Promise.resolve(next.value.promise).then((value) => {\n",
              "    // Cache the last promise value to make it available to the next\n",
              "    // step of the generator.\n",
              "    outputElement.lastPromiseValue = value;\n",
              "    return next.value.response;\n",
              "  });\n",
              "}\n",
              "\n",
              "/**\n",
              " * Generator function which is called between each async step of the upload\n",
              " * process.\n",
              " * @param {string} inputId Element ID of the input file picker element.\n",
              " * @param {string} outputId Element ID of the output display.\n",
              " * @return {!Iterable<!Object>} Iterable of next steps.\n",
              " */\n",
              "function* uploadFilesStep(inputId, outputId) {\n",
              "  const inputElement = document.getElementById(inputId);\n",
              "  inputElement.disabled = false;\n",
              "\n",
              "  const outputElement = document.getElementById(outputId);\n",
              "  outputElement.innerHTML = '';\n",
              "\n",
              "  const pickedPromise = new Promise((resolve) => {\n",
              "    inputElement.addEventListener('change', (e) => {\n",
              "      resolve(e.target.files);\n",
              "    });\n",
              "  });\n",
              "\n",
              "  const cancel = document.createElement('button');\n",
              "  inputElement.parentElement.appendChild(cancel);\n",
              "  cancel.textContent = 'Cancel upload';\n",
              "  const cancelPromise = new Promise((resolve) => {\n",
              "    cancel.onclick = () => {\n",
              "      resolve(null);\n",
              "    };\n",
              "  });\n",
              "\n",
              "  // Wait for the user to pick the files.\n",
              "  const files = yield {\n",
              "    promise: Promise.race([pickedPromise, cancelPromise]),\n",
              "    response: {\n",
              "      action: 'starting',\n",
              "    }\n",
              "  };\n",
              "\n",
              "  cancel.remove();\n",
              "\n",
              "  // Disable the input element since further picks are not allowed.\n",
              "  inputElement.disabled = true;\n",
              "\n",
              "  if (!files) {\n",
              "    return {\n",
              "      response: {\n",
              "        action: 'complete',\n",
              "      }\n",
              "    };\n",
              "  }\n",
              "\n",
              "  for (const file of files) {\n",
              "    const li = document.createElement('li');\n",
              "    li.append(span(file.name, {fontWeight: 'bold'}));\n",
              "    li.append(span(\n",
              "        `(${file.type || 'n/a'}) - ${file.size} bytes, ` +\n",
              "        `last modified: ${\n",
              "            file.lastModifiedDate ? file.lastModifiedDate.toLocaleDateString() :\n",
              "                                    'n/a'} - `));\n",
              "    const percent = span('0% done');\n",
              "    li.appendChild(percent);\n",
              "\n",
              "    outputElement.appendChild(li);\n",
              "\n",
              "    const fileDataPromise = new Promise((resolve) => {\n",
              "      const reader = new FileReader();\n",
              "      reader.onload = (e) => {\n",
              "        resolve(e.target.result);\n",
              "      };\n",
              "      reader.readAsArrayBuffer(file);\n",
              "    });\n",
              "    // Wait for the data to be ready.\n",
              "    let fileData = yield {\n",
              "      promise: fileDataPromise,\n",
              "      response: {\n",
              "        action: 'continue',\n",
              "      }\n",
              "    };\n",
              "\n",
              "    // Use a chunked sending to avoid message size limits. See b/62115660.\n",
              "    let position = 0;\n",
              "    do {\n",
              "      const length = Math.min(fileData.byteLength - position, MAX_PAYLOAD_SIZE);\n",
              "      const chunk = new Uint8Array(fileData, position, length);\n",
              "      position += length;\n",
              "\n",
              "      const base64 = btoa(String.fromCharCode.apply(null, chunk));\n",
              "      yield {\n",
              "        response: {\n",
              "          action: 'append',\n",
              "          file: file.name,\n",
              "          data: base64,\n",
              "        },\n",
              "      };\n",
              "\n",
              "      let percentDone = fileData.byteLength === 0 ?\n",
              "          100 :\n",
              "          Math.round((position / fileData.byteLength) * 100);\n",
              "      percent.textContent = `${percentDone}% done`;\n",
              "\n",
              "    } while (position < fileData.byteLength);\n",
              "  }\n",
              "\n",
              "  // All done.\n",
              "  yield {\n",
              "    response: {\n",
              "      action: 'complete',\n",
              "    }\n",
              "  };\n",
              "}\n",
              "\n",
              "scope.google = scope.google || {};\n",
              "scope.google.colab = scope.google.colab || {};\n",
              "scope.google.colab._files = {\n",
              "  _uploadFiles,\n",
              "  _uploadFilesContinue,\n",
              "};\n",
              "})(self);\n",
              "</script> "
            ]
          },
          "metadata": {}
        },
        {
          "output_type": "stream",
          "name": "stdout",
          "text": [
            "Saving data-01-test-score.csv to data-01-test-score (1).csv\n"
          ]
        }
      ]
    },
    {
      "cell_type": "code",
      "source": [
        "# Q3\n",
        "# 파일의 경로를 f1le_path로 설정\n",
        "# ex) file_path = \"./data-01-test-score.csv\"\n",
        "\n",
        "import csv\n",
        "import numpy as np\n",
        "\n",
        "file_path = \"data-01-test-score.csv\"\n",
        "\n",
        "def read_file(file_path):\n",
        "    # TODO\n",
        "    csv_list = []\n",
        "    with open(file_path, 'r') as csv_file:\n",
        "      reader = csv.reader(csv_file)\n",
        "      csv_list = list(reader)\n",
        "      return np.array(csv_list)\n",
        "\n",
        "print(read_file(file_path))"
      ],
      "metadata": {
        "colab": {
          "base_uri": "https://localhost:8080/"
        },
        "id": "0QS5WxouwiGw",
        "outputId": "172a6526-2a96-4c15-a0b5-1791293bd07a"
      },
      "execution_count": 85,
      "outputs": [
        {
          "output_type": "stream",
          "name": "stdout",
          "text": [
            "[['73' '80' '75' '152']\n",
            " ['93' '88' '93' '185']\n",
            " ['89' '91' '90' '180']\n",
            " ['96' '98' '100' '196']\n",
            " ['73' '66' '70' '142']\n",
            " ['53' '46' '55' '101']\n",
            " ['69' '74' '77' '149']\n",
            " ['47' '56' '60' '115']\n",
            " ['87' '79' '90' '175']\n",
            " ['79' '70' '88' '164']\n",
            " ['69' '70' '73' '141']\n",
            " ['70' '65' '74' '141']\n",
            " ['93' '95' '91' '184']\n",
            " ['79' '80' '73' '152']\n",
            " ['70' '73' '78' '148']\n",
            " ['93' '89' '96' '192']\n",
            " ['78' '75' '68' '147']\n",
            " ['81' '90' '93' '183']\n",
            " ['88' '92' '86' '177']\n",
            " ['78' '83' '77' '159']\n",
            " ['82' '86' '90' '177']\n",
            " ['86' '82' '89' '175']\n",
            " ['78' '83' '85' '175']\n",
            " ['76' '83' '71' '149']\n",
            " ['96' '93' '95' '192']]\n"
          ]
        }
      ]
    },
    {
      "cell_type": "code",
      "source": [
        "# Q4\n",
        "\n",
        "file_path = \"data-01-test-score.csv\"\n",
        "\n",
        "class ReadCSV():\n",
        "    def __init__(self, file_path) :\n",
        "       # TODO\n",
        "        self.file_path = file_path\n",
        "\n",
        "    def read_file(self):\n",
        "        # TODO\n",
        "        with open(self.file_path, 'r') as f:\n",
        "          data = list(csv.reader(f))\n",
        "          for idx in range(len(data)):\n",
        "            data[idx] = [int(i) for i in data[idx]]\n",
        "        self.data = data\n",
        "        return np.array(self.data)\n",
        "\n",
        "    def merge_list(self):\n",
        "        # TODO\n",
        "        return [sum(i) for i in self.data]\n",
        "\n",
        "read_csv = ReadCSV(file_path)\n",
        "print(read_csv.read_file())\n",
        "print()\n",
        "print(read_csv.merge_list())"
      ],
      "metadata": {
        "colab": {
          "base_uri": "https://localhost:8080/"
        },
        "id": "ioxIBWQlyKgn",
        "outputId": "25f8b4f7-ed49-46f7-f004-c749b2285312"
      },
      "execution_count": 98,
      "outputs": [
        {
          "output_type": "stream",
          "name": "stdout",
          "text": [
            "[[ 73  80  75 152]\n",
            " [ 93  88  93 185]\n",
            " [ 89  91  90 180]\n",
            " [ 96  98 100 196]\n",
            " [ 73  66  70 142]\n",
            " [ 53  46  55 101]\n",
            " [ 69  74  77 149]\n",
            " [ 47  56  60 115]\n",
            " [ 87  79  90 175]\n",
            " [ 79  70  88 164]\n",
            " [ 69  70  73 141]\n",
            " [ 70  65  74 141]\n",
            " [ 93  95  91 184]\n",
            " [ 79  80  73 152]\n",
            " [ 70  73  78 148]\n",
            " [ 93  89  96 192]\n",
            " [ 78  75  68 147]\n",
            " [ 81  90  93 183]\n",
            " [ 88  92  86 177]\n",
            " [ 78  83  77 159]\n",
            " [ 82  86  90 177]\n",
            " [ 86  82  89 175]\n",
            " [ 78  83  85 175]\n",
            " [ 76  83  71 149]\n",
            " [ 96  93  95 192]]\n",
            "\n",
            "[380, 459, 450, 490, 351, 255, 369, 278, 431, 401, 353, 350, 463, 384, 369, 470, 368, 447, 443, 397, 435, 432, 421, 379, 476]\n"
          ]
        }
      ]
    },
    {
      "cell_type": "code",
      "source": [
        "# Q5\n",
        "\n",
        "file_path = \"data-01-test-score.csv\"\n",
        "\n",
        "class ReadCSV():\n",
        "    def __init__(self, file_path) :\n",
        "       # TODO\n",
        "        self.file_path = file_path\n",
        "\n",
        "    def read_file(self):\n",
        "        # TODO\n",
        "        with open(self.file_path, 'r') as f:\n",
        "          data = list(csv.reader(f))\n",
        "          for idx in range(len(data)):\n",
        "            data[idx] = [int(i) for i in data[idx]]\n",
        "        self.data = data\n",
        "        return np.array(self.data)\n",
        "\n",
        "    def merge_list(self):\n",
        "        # TODO\n",
        "        return sorted([sum(i)/len(i) for i in self.data])\n",
        "\n",
        "read_csv = ReadCSV(file_path)\n",
        "print(read_csv.read_file())\n",
        "print()\n",
        "print(read_csv.merge_list())"
      ],
      "metadata": {
        "colab": {
          "base_uri": "https://localhost:8080/"
        },
        "id": "mV_Siv_T448L",
        "outputId": "295c528e-6cc0-4dc5-c5fe-42dde6c5cb82"
      },
      "execution_count": 99,
      "outputs": [
        {
          "output_type": "stream",
          "name": "stdout",
          "text": [
            "[[ 73  80  75 152]\n",
            " [ 93  88  93 185]\n",
            " [ 89  91  90 180]\n",
            " [ 96  98 100 196]\n",
            " [ 73  66  70 142]\n",
            " [ 53  46  55 101]\n",
            " [ 69  74  77 149]\n",
            " [ 47  56  60 115]\n",
            " [ 87  79  90 175]\n",
            " [ 79  70  88 164]\n",
            " [ 69  70  73 141]\n",
            " [ 70  65  74 141]\n",
            " [ 93  95  91 184]\n",
            " [ 79  80  73 152]\n",
            " [ 70  73  78 148]\n",
            " [ 93  89  96 192]\n",
            " [ 78  75  68 147]\n",
            " [ 81  90  93 183]\n",
            " [ 88  92  86 177]\n",
            " [ 78  83  77 159]\n",
            " [ 82  86  90 177]\n",
            " [ 86  82  89 175]\n",
            " [ 78  83  85 175]\n",
            " [ 76  83  71 149]\n",
            " [ 96  93  95 192]]\n",
            "\n",
            "[63.75, 69.5, 87.5, 87.75, 88.25, 92.0, 92.25, 92.25, 94.75, 95.0, 96.0, 99.25, 100.25, 105.25, 107.75, 108.0, 108.75, 110.75, 111.75, 112.5, 114.75, 115.75, 117.5, 119.0, 122.5]\n"
          ]
        }
      ]
    }
  ]
}