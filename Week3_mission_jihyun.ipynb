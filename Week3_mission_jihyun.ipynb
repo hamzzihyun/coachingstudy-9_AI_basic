{
  "nbformat": 4,
  "nbformat_minor": 0,
  "metadata": {
    "colab": {
      "provenance": [],
      "authorship_tag": "ABX9TyOljfC1LNdPU2vNMIaoOLxB",
      "include_colab_link": true
    },
    "kernelspec": {
      "name": "python3",
      "display_name": "Python 3"
    },
    "language_info": {
      "name": "python"
    }
  },
  "cells": [
    {
      "cell_type": "markdown",
      "metadata": {
        "id": "view-in-github",
        "colab_type": "text"
      },
      "source": [
        "<a href=\"https://colab.research.google.com/github/hamzzihyun/coachingstudy-9_AI_basic/blob/main/Week3_mission_jihyun.ipynb\" target=\"_parent\"><img src=\"https://colab.research.google.com/assets/colab-badge.svg\" alt=\"Open In Colab\"/></a>"
      ]
    },
    {
      "cell_type": "code",
      "source": [
        "import numpy as np"
      ],
      "metadata": {
        "id": "dnD4PfuYs1YR"
      },
      "execution_count": 1,
      "outputs": []
    },
    {
      "cell_type": "code",
      "execution_count": 3,
      "metadata": {
        "colab": {
          "base_uri": "https://localhost:8080/"
        },
        "id": "7-IPnKM4T4nY",
        "outputId": "9485afe6-481f-4b7d-e819-b6fe311038c6"
      },
      "outputs": [
        {
          "output_type": "stream",
          "name": "stdout",
          "text": [
            "[[0.29344026 0.59932717]\n",
            " [0.29159789 1.22319219]\n",
            " [0.22599828 0.84153633]\n",
            " [0.24271881 0.5178981 ]\n",
            " [0.77242218 0.98995467]]\n"
          ]
        }
      ],
      "source": [
        "# Q1\n",
        "\n",
        "arr1 = np.random.rand(5,3)\n",
        "arr2 = np.random.rand(3,2)\n",
        "\n",
        "arr_new = arr1 @ arr2\n",
        "print(arr_new)"
      ]
    },
    {
      "cell_type": "code",
      "source": [
        "# 02\n",
        "\n",
        "arr1 = np.array([[5,7], [9,11]], float)\n",
        "arr2 = np.array([[2,4], [6,8]], float)\n",
        "\n",
        "print(\"axis = 0 : \\n\", np.concatenate((arr1, arr2), axis=0))\n",
        "print(\"axis = 1 : \\n\", np.concatenate((arr1, arr2),  axis=1))"
      ],
      "metadata": {
        "colab": {
          "base_uri": "https://localhost:8080/"
        },
        "id": "qOwkG11AcE2q",
        "outputId": "62e6059f-74ad-4a6c-ee3d-c046f27c8106"
      },
      "execution_count": 4,
      "outputs": [
        {
          "output_type": "stream",
          "name": "stdout",
          "text": [
            "axis = 0 : \n",
            " [[ 5.  7.]\n",
            " [ 9. 11.]\n",
            " [ 2.  4.]\n",
            " [ 6.  8.]]\n",
            "axis = 1 : \n",
            " [[ 5.  7.  2.  4.]\n",
            " [ 9. 11.  6.  8.]]\n"
          ]
        }
      ]
    },
    {
      "cell_type": "code",
      "source": [
        "# Q3\n",
        "\n",
        "xy= np.array([[1., 2., 3., 4., 5., 6.],\n",
        "            [10.,20.,30.,40.,50.,60.]])\n",
        "\n",
        "x_train = xy[0]\n",
        "y_train = xy[1]\n",
        "\n",
        "print(x_train, x_train.shape)\n",
        "print(y_train, y_train.shape)"
      ],
      "metadata": {
        "colab": {
          "base_uri": "https://localhost:8080/"
        },
        "id": "Ixda1g7jvxuU",
        "outputId": "f27a6fca-ef78-412d-8d74-cce8088c86d3"
      },
      "execution_count": 10,
      "outputs": [
        {
          "output_type": "stream",
          "name": "stdout",
          "text": [
            "[1. 2. 3. 4. 5. 6.] (6,)\n",
            "[10. 20. 30. 40. 50. 60.] (6,)\n"
          ]
        }
      ]
    },
    {
      "cell_type": "code",
      "source": [
        "# Q4\n",
        "##------------사용 가능한 방법론------------------\n",
        "\"np.random.rand(m,n): 0~1의 균일분포에서 난수 matrix array 생성 \\\n",
        "np.random.randint : 균일분포의 정수 난수 1개 생성 \\\n",
        "np.random.randn: 가우시안 표준 정규 분포에서 난수 matrix array 생성\"\n",
        "##-------------------------------------------------\n",
        "beta_gd = np.random.randn(1)\n",
        "bias = np.random.rand(1)\n",
        "\n",
        "print(beta_gd, bias)"
      ],
      "metadata": {
        "colab": {
          "base_uri": "https://localhost:8080/"
        },
        "id": "WqC0N5dgwmkB",
        "outputId": "ebddd544-fd42-43a7-ca6c-f097e7dff425"
      },
      "execution_count": 26,
      "outputs": [
        {
          "output_type": "stream",
          "name": "stdout",
          "text": [
            "[-0.10636338] [0.53204302]\n"
          ]
        }
      ]
    },
    {
      "cell_type": "code",
      "source": [
        "# Q5\n",
        "\n",
        "xy= np.array([[1., 2., 3., 4., 5., 6.],\n",
        "            [3., 6., 9., 12., 15., 18.]])\n",
        "\n",
        "x_train = xy[0]\n",
        "y_train = xy[1]\n",
        "\n",
        "beta_gd = np.random.rand(1)\n",
        "bias = np.random.rand(1)\n",
        "\n",
        "learning_rate = 0.01  # 학습률\n",
        "\n",
        "for i in range(1000):\n",
        "  pred = (x_train * beta_gd) + bias  # x * 기울기 + 절편\n",
        "  error = ((pred - y_train) ** 2 ).mean() # 에러(목적식)는 차이의 제곱을 이용해서 계산\n",
        "\n",
        "  gd_w = ((pred - y_train) * 2 * x_train).mean()  # ((y-y^)^2) w에 대한 편미분\n",
        "  gd_b = ((pred - y_train) * 2).mean()  # ((y-y^)^2) b에 대한 편미분\n",
        "\n",
        "  beta_gd -= learning_rate * gd_w  # a -= b는 a = a-b를 의미\n",
        "  bias -= learning_rate * gd_b\n",
        "\n",
        "\n",
        "  if i%100 ==0:\n",
        "        print('Epoch  ({:10d}/1000) error : {:10f}, beta_gd : {:10f}, bias : {:10f}'\n",
        "        .format(i, error, beta_gd.item(), bias.item()))"
      ],
      "metadata": {
        "colab": {
          "base_uri": "https://localhost:8080/"
        },
        "id": "CV7LGDj3xeJh",
        "outputId": "7b2dc80c-48f9-4012-b8d1-d3e3b1649df7"
      },
      "execution_count": 41,
      "outputs": [
        {
          "output_type": "stream",
          "name": "stdout",
          "text": [
            "Epoch  (         0/1000) error :  84.067644, beta_gd :   1.305081, bias :   0.401492\n",
            "Epoch  (       100/1000) error :   0.053343, beta_gd :   2.877467, bias :   0.524586\n",
            "Epoch  (       200/1000) error :   0.025675, beta_gd :   2.914990, bias :   0.363944\n",
            "Epoch  (       300/1000) error :   0.012358, beta_gd :   2.941023, bias :   0.252494\n",
            "Epoch  (       400/1000) error :   0.005948, beta_gd :   2.959083, bias :   0.175173\n",
            "Epoch  (       500/1000) error :   0.002863, beta_gd :   2.971613, bias :   0.121530\n",
            "Epoch  (       600/1000) error :   0.001378, beta_gd :   2.980306, bias :   0.084314\n",
            "Epoch  (       700/1000) error :   0.000663, beta_gd :   2.986337, bias :   0.058495\n",
            "Epoch  (       800/1000) error :   0.000319, beta_gd :   2.990521, bias :   0.040582\n",
            "Epoch  (       900/1000) error :   0.000154, beta_gd :   2.993424, bias :   0.028155\n"
          ]
        }
      ]
    }
  ]
}