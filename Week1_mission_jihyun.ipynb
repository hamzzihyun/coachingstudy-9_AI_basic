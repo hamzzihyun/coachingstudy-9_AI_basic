{
  "nbformat": 4,
  "nbformat_minor": 0,
  "metadata": {
    "colab": {
      "provenance": [],
      "authorship_tag": "ABX9TyP9uaOFJBgM8GURlwctlMTM",
      "include_colab_link": true
    },
    "kernelspec": {
      "name": "python3",
      "display_name": "Python 3"
    },
    "language_info": {
      "name": "python"
    }
  },
  "cells": [
    {
      "cell_type": "markdown",
      "metadata": {
        "id": "view-in-github",
        "colab_type": "text"
      },
      "source": [
        "<a href=\"https://colab.research.google.com/github/hamzzihyun/coachingstudy-9_AI_basic/blob/main/Week1_mission_jihyun.ipynb\" target=\"_parent\"><img src=\"https://colab.research.google.com/assets/colab-badge.svg\" alt=\"Open In Colab\"/></a>"
      ]
    },
    {
      "cell_type": "code",
      "source": [
        "# Q1\n",
        "num_list = [1, 5, 7, 15, 16, 22, 28, 29]\n",
        "\n",
        "def get_odd_num(num_list):\n",
        "  return [j for j in num_list if j % 2 != 0]\n",
        "\n",
        "print(get_odd_num(num_list))"
      ],
      "metadata": {
        "colab": {
          "base_uri": "https://localhost:8080/"
        },
        "id": "iWLtMyiemFQ0",
        "outputId": "191b87e5-9739-4e59-ef2e-e8c0529ca6a9"
      },
      "execution_count": null,
      "outputs": [
        {
          "output_type": "stream",
          "name": "stdout",
          "text": [
            "[1, 5, 7, 15, 29]\n"
          ]
        }
      ]
    },
    {
      "cell_type": "code",
      "source": [
        "# Q2\n",
        "sentence = \"way a is there will a is there Where\"\n",
        "\n",
        "def reverse_sentence(sentence):\n",
        "  return \" \".join(sentence.split(\" \")[::-1])\n",
        "\n",
        "print(reverse_sentence(sentence))"
      ],
      "metadata": {
        "colab": {
          "base_uri": "https://localhost:8080/"
        },
        "id": "IyJMVnUbgPeY",
        "outputId": "7c070353-9984-43a1-bd64-72042b709d71"
      },
      "execution_count": null,
      "outputs": [
        {
          "output_type": "stream",
          "name": "stdout",
          "text": [
            "Where there is a will there is a way\n"
          ]
        }
      ]
    },
    {
      "cell_type": "code",
      "source": [
        "# Q3\n",
        "score = [(100, 100), (95, 90), (55, 60), (75, 80), (70, 70)]\n",
        "number = 0\n",
        "\n",
        "def get_avg(score):\n",
        "\n",
        "  for (mid, final) in score:\n",
        "    global number\n",
        "    number = number + 1\n",
        "    print(\"%d 번, 평균 :\"% number, (mid  + final) / 2) \n",
        "    \n",
        "get_avg(score)"
      ],
      "metadata": {
        "id": "ncm5SGbejHnS",
        "colab": {
          "base_uri": "https://localhost:8080/"
        },
        "outputId": "8e0285af-915e-4f9e-ff4d-d74d0dd9120e"
      },
      "execution_count": null,
      "outputs": [
        {
          "output_type": "stream",
          "name": "stdout",
          "text": [
            "1 번, 평균 : 100.0\n",
            "2 번, 평균 : 92.5\n",
            "3 번, 평균 : 57.5\n",
            "4 번, 평균 : 77.5\n",
            "5 번, 평균 : 70.0\n"
          ]
        }
      ]
    },
    {
      "cell_type": "code",
      "source": [
        "# Q4\n",
        "dict_first = {'사과': 30, '배': 15, '감': 10, '포도': 10}\n",
        "dict_second = {'사과': 5, '감': 25, '배': 15, '귤': 25}\n",
        "\n",
        "def merge_dict(dict_first, dict_second):\n",
        "  dict3 = dict_first.copy()\n",
        "  dict3.update(dict_second)\n",
        "  for i, j in dict_first.items():\n",
        "    for x, y in dict_second.items():\n",
        "      if i == x:\n",
        "        dict3[i] = (j+y)\n",
        "  print(dict3)\n",
        "\n",
        "merge_dict(dict_first, dict_second)"
      ],
      "metadata": {
        "id": "k7oU0u0Sn5qG",
        "colab": {
          "base_uri": "https://localhost:8080/"
        },
        "outputId": "341f3c59-b170-4ee1-df33-b1f37dbbfde9"
      },
      "execution_count": null,
      "outputs": [
        {
          "output_type": "stream",
          "name": "stdout",
          "text": [
            "{'사과': 35, '배': 30, '감': 35, '포도': 10, '귤': 25}\n"
          ]
        }
      ]
    },
    {
      "cell_type": "code",
      "source": [
        "# Q5\n",
        "inputs = \"cat32dog16cow5\"\n",
        "\n",
        "def find_string(inputs):\n",
        "    for i in range(len(inputs)):\n",
        "        if inputs[i].isnumeric():\n",
        "            inputs = inputs.replace(inputs[i], \" \")\n",
        "    result = list(map(str, inputs.split()))\n",
        "    return result\n",
        "\n",
        "string_list = find_string(inputs)\n",
        "print(string_list)"
      ],
      "metadata": {
        "id": "1JFZLz2Rok_r",
        "colab": {
          "base_uri": "https://localhost:8080/"
        },
        "outputId": "bee6d321-9af8-4473-8fcd-69af059ffe50"
      },
      "execution_count": null,
      "outputs": [
        {
          "output_type": "stream",
          "name": "stdout",
          "text": [
            "['cat', 'dog', 'cow']\n"
          ]
        }
      ]
    }
  ]
}